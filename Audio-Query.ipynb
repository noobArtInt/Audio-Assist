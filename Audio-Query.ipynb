{
 "cells": [
  {
   "cell_type": "code",
   "execution_count": null,
   "metadata": {},
   "outputs": [],
   "source": [
    "import pyttsx3\n",
    "import speech_recognition as sr\n",
    "import wikipedia\n",
    "\n",
    "engine = pyttsx3.init()\n",
    "r = sr.Recognizer()\n",
    "engine.setProperty('rate', 125) "
   ]
  },
  {
   "cell_type": "code",
   "execution_count": null,
   "metadata": {},
   "outputs": [],
   "source": [
    "with sr.Microphone() as source:\n",
    "    print('Listening')\n",
    "    audio = r.listen(source)\n",
    "    print('Searching')"
   ]
  },
  {
   "cell_type": "code",
   "execution_count": null,
   "metadata": {},
   "outputs": [],
   "source": [
    "engine.say('What you want to know')\n",
    "engine.runAndWait()\n",
    "with sr.Microphone() as source:\n",
    "    print('Listening')\n",
    "    audio = r.listen(source)\n",
    "    print('Searching')\n",
    "engine.say(wikipedia.summary(r.recognize_google(audio)))\n",
    "engine.runAndWait()\n",
    "print(wikipedia.summary(r.recognize_google(audio)))"
   ]
  },
  {
   "cell_type": "code",
   "execution_count": null,
   "metadata": {},
   "outputs": [],
   "source": [
    "reco = r.recognize_google(audio, language = 'hi-IN')\n",
    "print(reco)\n",
    "word = translator.translate(reco, src='hi', dest = 'en').text\n",
    "wikipedia.summary(word,sentences = 2)\n",
    "tts = gTTS(wikipedia.summary(word,sentences = 3))\n",
    "tts.save(r.recognize_google(audio)+'.mp3')\n",
    "playsound(r.recognize_google(audio)+'.mp3')\n",
    "os.remove(r.recognize_google(audio)+'.mp3')"
   ]
  },
  {
   "cell_type": "code",
   "execution_count": null,
   "metadata": {},
   "outputs": [],
   "source": [
    "engine.say('बिहार भारत के उत्तर भाग में स्थित एक प्रसिद्ध ऐतिहासिक राज्य है और इसकी राजधानी पटना है। बिहार के उत्तर में नेपाल, दक्षिण में झारखण्ड, पूर्व में पश्चिम बंगाल, और पश्चिम में उत्तर प्रदेश स्थित है। बिहार नाम का प्रादुर्भाव बौद्ध सन्यासियों के ठहरने के स्थान विहार शब्द से हुआ, जिसे विहार के स्थान पर इसके अपभ्रंश रूप बिहार से संबोधित किया जाता है। यह क्षेत्र गंगा नदी तथा उसकी सहायक नदियों के उपजाऊ मैदानों में बसा है। प्राचीन काल में विशाल साम्राज्यों का गढ़ रहा यह प्रदेश, वर्तमान में देश की अर्थव्यवस्था\\n के सामान्य योगदाताओं में से एक बनकर रह गया है।\\nसन् 1936 ई• में ओडिशा और सन् 2000 ई• में झारखण्ड के अलग हो जाने से बिहार ने कृषि के दम पर और अपने मेधा को लेकर उन्नति की है। आई आई टी और यूपीएससी जैसे कठिन परीक्षा में लगभग हर बार बिहार के प्रतिभागी अव्वल होते हैं। इनकी उत्कृष्ट स्तर से बढ़ती हुई निष्ठा और गौरवशाली इतिहास बिहार को एक बार फिर से अनोखा और विकसित बनाएगा ।\\nभारत में क्षेत्रफल की दृष्टि से बिहार वर्तमान में 13 वाँ राज्य है।')\n",
    "engine.runAndWait()"
   ]
  },
  {
   "cell_type": "code",
   "execution_count": null,
   "metadata": {},
   "outputs": [],
   "source": [
    "wikipedia.summary('bihar')"
   ]
  },
  {
   "cell_type": "code",
   "execution_count": null,
   "metadata": {},
   "outputs": [],
   "source": []
  },
  {
   "cell_type": "code",
   "execution_count": null,
   "metadata": {},
   "outputs": [],
   "source": [
    "from googletrans import Translator\n",
    "translator = Translator()"
   ]
  },
  {
   "cell_type": "code",
   "execution_count": null,
   "metadata": {},
   "outputs": [],
   "source": [
    "translator.translate(wikipedia.summary('bihar'), src='hi', dest = 'en').text"
   ]
  },
  {
   "cell_type": "code",
   "execution_count": null,
   "metadata": {},
   "outputs": [],
   "source": [
    "from gtts import gTTS"
   ]
  },
  {
   "cell_type": "code",
   "execution_count": null,
   "metadata": {},
   "outputs": [],
   "source": [
    "translator.translate('बिहार भारत के उत्तर भाग में स्थित एक प्रसिद्ध ऐतिहासिक राज्य है और इसकी राजधानी पटना है। बिहार के उत्तर में नेपाल, दक्षिण में झारखण्ड, पूर्व में पश्चिम बंगाल, और पश्चिम में उत्तर प्रदेश स्थित है। बिहार नाम का प्रादुर्भाव बौद्ध सन्यासियों के ठहरने के स्थान', src = 'hi', dest = 'en').text"
   ]
  },
  {
   "cell_type": "code",
   "execution_count": null,
   "metadata": {},
   "outputs": [],
   "source": [
    "tts = gTTS('बिहार भारत के उत्तर भाग में स्थित एक प्रसिद्ध ऐतिहासिक राज्य है और इसकी राजधानी पटना है। बिहार के उत्तर में नेपाल, दक्षिण में झारखण्ड, पूर्व में पश्चिम बंगाल, और पश्चिम में उत्तर प्रदेश स्थित है। बिहार नाम का प्रादुर्भाव बौद्ध सन्यासियों के ठहरने के स्थान')\n",
    "tts.save('new.mp3')"
   ]
  },
  {
   "cell_type": "code",
   "execution_count": null,
   "metadata": {},
   "outputs": [],
   "source": [
    "from playsound import playsound\n",
    "playsound('new.mp3')"
   ]
  }
 ],
 "metadata": {
  "kernelspec": {
   "display_name": "Python 3",
   "language": "python",
   "name": "python3"
  },
  "language_info": {
   "codemirror_mode": {
    "name": "ipython",
    "version": 3
   },
   "file_extension": ".py",
   "mimetype": "text/x-python",
   "name": "python",
   "nbconvert_exporter": "python",
   "pygments_lexer": "ipython3",
   "version": "3.7.4"
  }
 },
 "nbformat": 4,
 "nbformat_minor": 2
}
